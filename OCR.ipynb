{
  "nbformat": 4,
  "nbformat_minor": 0,
  "metadata": {
    "colab": {
      "name": "OCR.ipynb",
      "provenance": [],
      "collapsed_sections": []
    },
    "kernelspec": {
      "name": "python3",
      "display_name": "Python 3"
    }
  },
  "cells": [
    {
      "cell_type": "markdown",
      "metadata": {
        "id": "3nPr8VDaWCzz",
        "colab_type": "text"
      },
      "source": [
        "Install the packages to be used"
      ]
    },
    {
      "cell_type": "code",
      "metadata": {
        "id": "xdhc3HkSjTwH",
        "colab_type": "code",
        "colab": {}
      },
      "source": [
        "!pip install pytesseract\n",
        "!pip install pdf2image\n",
        "!apt-get install poppler-utils\n",
        "!apt-get install tesseract-ocr\n",
        "!apt-get install libtesseract-dev"
      ],
      "execution_count": null,
      "outputs": []
    },
    {
      "cell_type": "markdown",
      "metadata": {
        "id": "FV8WcVcSWI2v",
        "colab_type": "text"
      },
      "source": [
        "Import the packages to be available in the kernel session"
      ]
    },
    {
      "cell_type": "code",
      "metadata": {
        "id": "LCLKE1DIjMz7",
        "colab_type": "code",
        "colab": {}
      },
      "source": [
        "import pytesseract\n",
        "from PIL import Image\n",
        "import sys\n",
        "from pdf2image import convert_from_path\n",
        "import os\n",
        "import io"
      ],
      "execution_count": null,
      "outputs": []
    },
    {
      "cell_type": "markdown",
      "metadata": {
        "id": "ncD0-BzQWSgg",
        "colab_type": "text"
      },
      "source": [
        "Import the kaggle json specific to your kaggle account to be able to get access to datasets on Kagggle.\n",
        "**NB:**Do this on colab envirnoment"
      ]
    },
    {
      "cell_type": "code",
      "metadata": {
        "id": "ECnQng-zjjvK",
        "colab_type": "code",
        "colab": {}
      },
      "source": [
        "!rm -r /root/.kaggle\n",
        "!mkdir ~/.kaggle/\n",
        "!pip install kaggle\n",
        "from google.colab import files\n",
        "uploaded = files.upload()"
      ],
      "execution_count": null,
      "outputs": []
    },
    {
      "cell_type": "markdown",
      "metadata": {
        "id": "_q3APqLyWtdx",
        "colab_type": "text"
      },
      "source": [
        "Import and unzip the dataset"
      ]
    },
    {
      "cell_type": "code",
      "metadata": {
        "id": "uc1OpyG3jtFz",
        "colab_type": "code",
        "colab": {}
      },
      "source": [
        "import os\n",
        "!cp \"/content/kaggle.json\" /root/.kaggle\n",
        "!chmod 600 /root/.kaggle/kaggle.json\n",
        "!kaggle datasets download -d ebmunkoh/medical-glossary #get the api of the dataset needed\n",
        "!unzip  medical-glossary.zip -d /content/medical-glossary #unzip the dataset"
      ],
      "execution_count": null,
      "outputs": []
    },
    {
      "cell_type": "code",
      "metadata": {
        "id": "Sl3340yTkIVx",
        "colab_type": "code",
        "colab": {}
      },
      "source": [
        "pdfs_to_convert = '/content/medical-glossary/'"
      ],
      "execution_count": null,
      "outputs": []
    },
    {
      "cell_type": "markdown",
      "metadata": {
        "id": "vzi2NBsmXPO5",
        "colab_type": "text"
      },
      "source": [
        "Set the path for the processed document to be and set the file extension"
      ]
    },
    {
      "cell_type": "code",
      "metadata": {
        "id": "prZV8wFykBtw",
        "colab_type": "code",
        "colab": {}
      },
      "source": [
        "for pdf in os.listdir(pdfs_to_convert):\n",
        "    pdf_path = str(pdf)\n",
        "    Filename = pdfs_to_convert+ \"results_\" + pdf_path.split('/')[-1].replace('.pdf','')[0:20] + \".txt\" #file extentions set to text file\n",
        "    pages = convert_from_path(pdfs_to_convert+ pdf_path)\n",
        "    pg_cntr = 1"
      ],
      "execution_count": null,
      "outputs": []
    },
    {
      "cell_type": "code",
      "metadata": {
        "id": "g2rDnBHZm6S7",
        "colab_type": "code",
        "colab": {}
      },
      "source": [
        "sub_directory = str(pdfs_to_convert + pdf_path.split('/')[-1].replace('.pdf','')[0:20] + \"/\")\n",
        "if not os.path.exists(sub_directory):\n",
        "  os.makedirs(sub_directory)"
      ],
      "execution_count": null,
      "outputs": []
    },
    {
      "cell_type": "markdown",
      "metadata": {
        "id": "i9zloimJYvOO",
        "colab_type": "text"
      },
      "source": [
        "Convert pdf to images and then\n",
        "Convert images to text"
      ]
    },
    {
      "cell_type": "code",
      "metadata": {
        "id": "uxM3bJCsnUA1",
        "colab_type": "code",
        "colab": {}
      },
      "source": [
        "for page in pages:\n",
        "        # if pg_cntr <= 20:\n",
        "        filename_jpg = \"pg_\"+str(pg_cntr)+'_'+pdf_path.split('/')[-1].replace('.pdf','.jpg')\n",
        "        page.save(sub_directory+filename_jpg)\n",
        "        with io.open(Filename, 'a+', encoding='utf8') as f:\n",
        "            \n",
        "          pg_cntr = pg_cntr + 1"
      ],
      "execution_count": null,
      "outputs": []
    }
  ]
}